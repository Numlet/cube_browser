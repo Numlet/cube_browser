{
 "cells": [
  {
   "cell_type": "markdown",
   "metadata": {},
   "source": [
    "# Creating a File Picker"
   ]
  },
  {
   "cell_type": "markdown",
   "metadata": {},
   "source": [
    "A widget which enables the user to select multiple files from the file system, returning a list."
   ]
  },
  {
   "cell_type": "markdown",
   "metadata": {},
   "source": [
    "https://ipywidgets.readthedocs.org/en/latest/"
   ]
  },
  {
   "cell_type": "code",
   "execution_count": 1,
   "metadata": {
    "collapsed": false
   },
   "outputs": [],
   "source": [
    "import param\n",
    "import paramnb"
   ]
  },
  {
   "cell_type": "markdown",
   "metadata": {},
   "source": [
    "Create a class for the particular picker type. An instance is not required if this is for a single use. "
   ]
  },
  {
   "cell_type": "code",
   "execution_count": null,
   "metadata": {
    "collapsed": false
   },
   "outputs": [],
   "source": [
    "class PathPicker(param.Parameterized):\n",
    "    filepath = param.String('/tmp')\n",
    "paramnb.NbParams(PathPicker)"
   ]
  },
  {
   "cell_type": "markdown",
   "metadata": {},
   "source": [
    "Create a class for the multi selector type and pass in the value from the provious picker."
   ]
  },
  {
   "cell_type": "code",
   "execution_count": 3,
   "metadata": {
    "collapsed": false
   },
   "outputs": [
    {
     "data": {
      "application/javascript": [
       "\n",
       "       var nb = IPython.notebook;\n",
       "       nb.execute_cell_range(nb.get_selected_index()+1, nb.ncells());\n",
       "    "
      ],
      "text/plain": [
       "<IPython.core.display.Javascript object>"
      ]
     },
     "metadata": {},
     "output_type": "display_data"
    }
   ],
   "source": [
    "class FilePicker(param.Parameterized):\n",
    "    files = paramnb.MultiFileSelector(path='{}/*'.format(PathPicker.filepath))\n",
    "paramnb.NbParams(FilePicker)"
   ]
  },
  {
   "cell_type": "markdown",
   "metadata": {},
   "source": [
    "Now the selected elements exist as a class attribute."
   ]
  },
  {
   "cell_type": "code",
   "execution_count": 4,
   "metadata": {
    "collapsed": false
   },
   "outputs": [
    {
     "data": {
      "text/plain": [
       "['/tmp/acinfodb_update_20160413_1104_pid5218.log',\n",
       " '/tmp/acinfodb_update_20160414_1103_pid5280.log',\n",
       " '/tmp/acinfodb_update_20160415_1027_pid4660.log',\n",
       " '/tmp/acinfodb_update_20160418_1015_pid4793.log',\n",
       " '/tmp/acinfodb_update_20160419_0322_pid12968.log']"
      ]
     },
     "execution_count": 4,
     "metadata": {},
     "output_type": "execute_result"
    }
   ],
   "source": [
    "FilePicker.files"
   ]
  }
 ],
 "metadata": {
  "kernelspec": {
   "display_name": "Python 2",
   "language": "python",
   "name": "python2"
  },
  "language_info": {
   "codemirror_mode": {
    "name": "ipython",
    "version": 2
   },
   "file_extension": ".py",
   "mimetype": "text/x-python",
   "name": "python",
   "nbconvert_exporter": "python",
   "pygments_lexer": "ipython2",
   "version": "2.7.11"
  }
 },
 "nbformat": 4,
 "nbformat_minor": 0
}
