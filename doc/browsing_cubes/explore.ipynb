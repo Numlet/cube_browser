{
 "cells": [
  {
   "cell_type": "code",
   "execution_count": null,
   "metadata": {
    "collapsed": false
   },
   "outputs": [],
   "source": [
    "import cube_browser.explorer\n",
    "exp = cube_browser.explorer.Explorer()"
   ]
  },
  {
   "cell_type": "code",
   "execution_count": null,
   "metadata": {
    "collapsed": false
   },
   "outputs": [],
   "source": [
    "print(exp.cubes)\n",
    "print((exp.a_plot_mpl_kwargs), (exp.b_plot_mpl_kwargs))"
   ]
  }
 ],
 "metadata": {
  "kernelspec": {
   "display_name": "Python 2",
   "language": "python",
   "name": "python2"
  },
  "language_info": {
   "codemirror_mode": {
    "name": "ipython",
    "version": 2
   },
   "file_extension": ".py",
   "mimetype": "text/x-python",
   "name": "python",
   "nbconvert_exporter": "python",
   "pygments_lexer": "ipython2",
   "version": "2.7.11"
  },
  "widgets": {
   "state": {
    "04586424e46a4e2f983fadaeac1c5e94": {
     "views": []
    },
    "079ba858168d4435a7e82a093b7b1a98": {
     "views": []
    },
    "0a7c787e703c4230a77c5c2630ada07d": {
     "views": []
    },
    "0c55992f6d29408fa9bb0e8223c2e86a": {
     "views": []
    },
    "0d41990181d64c95b7429eaab28637e8": {
     "views": []
    },
    "0e8f935ecdcf42f4bdef6ebe8a658506": {
     "views": []
    },
    "0f79abff437e4f0ebd76f88de3186f8b": {
     "views": []
    },
    "14184985d5384383ad66934126003ed5": {
     "views": []
    },
    "164f9a9591ee44fabdf96e628686ee42": {
     "views": [
      {
       "cell_index": 0
      }
     ]
    },
    "16b15060375541798742697274f4236f": {
     "views": []
    },
    "16dba909f3b44c42ae845fd1142ffa56": {
     "views": []
    },
    "16e90f89c5914ec88220029cb106396a": {
     "views": []
    },
    "1a7131ea89484ecf8483cadf704255d9": {
     "views": []
    },
    "1e4d450874d3404cadd115e492fef07e": {
     "views": []
    },
    "20108f5d94e34deca39a95d87b9c8d3c": {
     "views": [
      {
       "cell_index": 0
      }
     ]
    },
    "22be9332e12247a1b20048d8266bdd49": {
     "views": [
      {
       "cell_index": 0
      }
     ]
    },
    "2328be4b2d5d4d54ab3fd99644a60fa5": {
     "views": []
    },
    "2472e392caca437d9bdfb623743390c8": {
     "views": []
    },
    "25438431d42a4bbb887f0a6962fdef81": {
     "views": []
    },
    "2936fe87fa8e4d5782092cfc908fabe2": {
     "views": []
    },
    "2e9c3d573efb43f2b5e83bcb04611285": {
     "views": []
    },
    "2ec4a89c369a4b1d9b14158e72b9a5d9": {
     "views": []
    },
    "2ecb845ecfe640ad8e64394732cf80e5": {
     "views": []
    },
    "32dda957b01341a7b1b7898b9d752799": {
     "views": []
    },
    "396929f5efcb42238af036c45d75cf52": {
     "views": []
    },
    "3d43e604b4bb417e8398803daea38eec": {
     "views": []
    },
    "3ea1e69c57c74cecb2312dcae3da4249": {
     "views": []
    },
    "3f04c8898e984326ba983365c9c6002f": {
     "views": []
    },
    "41883e275d14409ebece79b403478b79": {
     "views": []
    },
    "434c08e98f95409f8eac510f344fccf9": {
     "views": []
    },
    "45d956d36ef2496583eae169072f77d2": {
     "views": []
    },
    "4830c4a986b240d8bc9dd5ed6479e628": {
     "views": []
    },
    "4b984b20125642f9b3246ff79c75c90d": {
     "views": []
    },
    "4c041ac241794d0c9252e60dddd4d5ee": {
     "views": []
    },
    "4d5d0a45507d48e6a8fbda234e5ac46d": {
     "views": []
    },
    "4e5454ea92664a9b8214d104d49862c1": {
     "views": []
    },
    "4e5a63d367cc4499ae3d6c1aa0bfd830": {
     "views": []
    },
    "4f12563b01e24a2294ae5d3d76c44f6c": {
     "views": []
    },
    "52889a4ea1664c1197fff0e547b57703": {
     "views": []
    },
    "5326dd50bd684f3ba70939648bd94a6e": {
     "views": []
    },
    "54af89ba201147c395910baeee3d8d79": {
     "views": []
    },
    "54d5ad0a95a747dea3840b20b12774ed": {
     "views": []
    },
    "561b031957f640eda30bb257fda144fd": {
     "views": []
    },
    "566eea5ebc724cbf82b70edc9d3c1ee0": {
     "views": []
    },
    "5a6de240bbc44fb28ea4f806d35de4bf": {
     "views": []
    },
    "5b5447dd2ae34b038c401199cce30f45": {
     "views": [
      {
       "cell_index": 0
      }
     ]
    },
    "5f21573ae1f94604a68033919edf512f": {
     "views": []
    },
    "5fd3e51ab11f4c62854f05396e725ae6": {
     "views": []
    },
    "6015f50cc51a4ce2aba255ca35ca6536": {
     "views": []
    },
    "619b4eeb26ca49469d9320e2a340d3e3": {
     "views": []
    },
    "62246a75edb54ee199ccde92100a01cc": {
     "views": []
    },
    "62f191c18aae45d9bc663c640bca2e5f": {
     "views": []
    },
    "6335fc775e8b40d3a628aec9fda6d803": {
     "views": []
    },
    "646b9b20d28041c0939b2f367cb48c7d": {
     "views": []
    },
    "6d55d4bfa0af4b22ae642fc80f4998a5": {
     "views": []
    },
    "70f9d3d6eea643f2b8622e50c019c6ac": {
     "views": []
    },
    "73eb0986fa074963a5f96eba52c26e1b": {
     "views": []
    },
    "7facbf90a9cf4f688986997b5e0d9cf4": {
     "views": []
    },
    "81d805ad0f4843a6ab26e1a5dea2833a": {
     "views": []
    },
    "8280a9cb4e5c4af195f09f6a2b6c5cc8": {
     "views": []
    },
    "86004505164943409d46704e00b2a247": {
     "views": []
    },
    "8929d116b7f346f498fe9c98016d401c": {
     "views": []
    },
    "8a8eb0e000e2474b9a914f65058d8533": {
     "views": []
    },
    "8aa405bf9f5c4c3fb145b296b664e032": {
     "views": []
    },
    "8e6bb4c49c294eb68115ad14d0991cbc": {
     "views": []
    },
    "90bf3045590d42a08e94c3cdacd2a9dd": {
     "views": []
    },
    "90e4a21e2a4a44b688a6966e77195662": {
     "views": []
    },
    "9296e0e382d74f618a2c1cf019fd1dd2": {
     "views": []
    },
    "92fa075392ea40fc9180c8c690317cca": {
     "views": []
    },
    "95dcb6fca44e4132b2a275f1cd2dc073": {
     "views": []
    },
    "9a8933d44d2d48e1a9bd2474214c707c": {
     "views": []
    },
    "9ada68c99dc14749b21f3ae9b58f4389": {
     "views": []
    },
    "9c682d3928aa4ee1944005da92ba5927": {
     "views": []
    },
    "9cebc83f25374985b92074cce0bc71a4": {
     "views": []
    },
    "a9a779fc0f1b4a98a7ded3cc3d637047": {
     "views": []
    },
    "aa805629ac5b4526ae822b1b4a28d49c": {
     "views": []
    },
    "ae477970fdac4e7a8d31046c85fc11d4": {
     "views": []
    },
    "ae6a60e68e724c37a0fc21bea70f1bfe": {
     "views": []
    },
    "af8fc16e6ce6427d8b6f56c82219d9f7": {
     "views": []
    },
    "afdf62ba22a5420a908baca860d49ab2": {
     "views": []
    },
    "b0856827202e402cb3fa7901b9464a0b": {
     "views": [
      {
       "cell_index": 0
      }
     ]
    },
    "b0cd493bd3e34c7ea2f452b8b906b082": {
     "views": []
    },
    "b16bcfcb58bc48c8bb7e52d26df497a8": {
     "views": []
    },
    "b1c3015f0b7643a2a1abf97a0853a991": {
     "views": []
    },
    "b2b0d7f5d2f0421dbe61d21b1db12560": {
     "views": []
    },
    "b5de38a0516641a6b0afbcfc0189dd08": {
     "views": []
    },
    "b614702e91644ec98dd6b7af7e88a835": {
     "views": []
    },
    "b99c11b56cc641a9a7c6ae9559244c6e": {
     "views": []
    },
    "bdcc8316b63d4f8fa39c31d44392dcda": {
     "views": []
    },
    "be55bc0f50b440b581d5dd6069211215": {
     "views": []
    },
    "be68d44692db499885bbfa72c3e9d704": {
     "views": []
    },
    "bf24452d484840468e59158a0177e37e": {
     "views": []
    },
    "bf2e40a78b514089b23d2c8f05bf43aa": {
     "views": []
    },
    "bf323636425c4f3e8fe8d6bfe0ed8172": {
     "views": []
    },
    "c08a117700f34911b72ce8c503a459ab": {
     "views": []
    },
    "c1ae799f89724ae1842c5ce70601a952": {
     "views": []
    },
    "c1c658db693449f28aa796bb3080e495": {
     "views": []
    },
    "c1f6437e1a8b42bd9420960892f93ee4": {
     "views": []
    },
    "c6c392ef6fe84423b294d521fa3a5939": {
     "views": []
    },
    "ccf30de2395841f791a96afad1277b19": {
     "views": []
    },
    "cdac2386593246d0abfdba0d894f5d2b": {
     "views": []
    },
    "cfbf4c505a6c41ab9b0099fde2d1490f": {
     "views": []
    },
    "cfd98741a53d460f9d2fa9eb06c2560b": {
     "views": []
    },
    "d14042ad8245476eb8e4d66acee79301": {
     "views": []
    },
    "d3363c92db1f499ca0e5d4565c43a792": {
     "views": []
    },
    "d458c96e599f4e49a5bf8a082c98d790": {
     "views": []
    },
    "d49f7e3c187a4ee18539067c4b3feebf": {
     "views": []
    },
    "d69d18415a6e404a8e05c2a4fd909c40": {
     "views": []
    },
    "da3c1c93eca14c258ca82ce5c183163a": {
     "views": []
    },
    "dc29d1fb98984fc79236385825d0957b": {
     "views": []
    },
    "dc85b21ff1d74f1f919e77ef65f9ad97": {
     "views": []
    },
    "dee77b74727843fab29d7ac14c4fdcc9": {
     "views": []
    },
    "df24111635594aa098bf30516368e5e5": {
     "views": []
    },
    "e32780337ecb4268b35e355fd8c4c3b1": {
     "views": []
    },
    "e513d0a1bf314362a541d87a4391dc67": {
     "views": []
    },
    "e93ea374104141e188e521ea052308a5": {
     "views": []
    },
    "e98fca6119c4484cb3721e9d5e2dae2a": {
     "views": []
    },
    "eb0434b2173b4381a01fd5acad3102e1": {
     "views": []
    },
    "ee1b81878f2d419399802ddbe95111bd": {
     "views": []
    },
    "f2cc9534df8b4221b2a6b344f84f38bc": {
     "views": []
    },
    "f46120f85bbe4b2b954d0a5d5c8e3ef3": {
     "views": []
    },
    "f481b3677f894ea797ab4a09055e5491": {
     "views": [
      {
       "cell_index": 0
      }
     ]
    },
    "f59b2f355ecd462db8fab4ef241d341a": {
     "views": []
    },
    "f931f717702e42b9bf139eb879cd3b6b": {
     "views": []
    },
    "f96a698899c9415abcf094829616aacf": {
     "views": []
    },
    "f994c0004ee547298cfff38bc7fe1f2a": {
     "views": []
    },
    "fbb42a18d542412291f9304bb17f2bf7": {
     "views": []
    },
    "ff404d20d6df43dd952d8da63f26a04a": {
     "views": []
    }
   },
   "version": "1.1.2"
  }
 },
 "nbformat": 4,
 "nbformat_minor": 0
}
